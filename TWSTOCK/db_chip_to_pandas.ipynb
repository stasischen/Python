{
 "cells": [
  {
   "cell_type": "code",
   "execution_count": 48,
   "metadata": {},
   "outputs": [
    {
     "data": {
      "text/html": [
       "<div>\n",
       "<style>\n",
       "    .dataframe thead tr:only-child th {\n",
       "        text-align: right;\n",
       "    }\n",
       "\n",
       "    .dataframe thead th {\n",
       "        text-align: left;\n",
       "    }\n",
       "\n",
       "    .dataframe tbody tr th {\n",
       "        vertical-align: top;\n",
       "    }\n",
       "</style>\n",
       "<table border=\"1\" class=\"dataframe\">\n",
       "  <thead>\n",
       "    <tr style=\"text-align: right;\">\n",
       "      <th></th>\n",
       "      <th>date</th>\n",
       "      <th>number_1</th>\n",
       "      <th>number_10</th>\n",
       "      <th>number_11</th>\n",
       "      <th>number_12</th>\n",
       "      <th>number_13</th>\n",
       "      <th>number_14</th>\n",
       "      <th>number_15</th>\n",
       "      <th>number_16</th>\n",
       "      <th>number_2</th>\n",
       "      <th>...</th>\n",
       "      <th>shares_16</th>\n",
       "      <th>shares_2</th>\n",
       "      <th>shares_3</th>\n",
       "      <th>shares_4</th>\n",
       "      <th>shares_5</th>\n",
       "      <th>shares_6</th>\n",
       "      <th>shares_7</th>\n",
       "      <th>shares_8</th>\n",
       "      <th>shares_9</th>\n",
       "      <th>ticker</th>\n",
       "    </tr>\n",
       "  </thead>\n",
       "  <tbody>\n",
       "    <tr>\n",
       "      <th>0</th>\n",
       "      <td>2017-12-08</td>\n",
       "      <td>192049</td>\n",
       "      <td>2190</td>\n",
       "      <td>901</td>\n",
       "      <td>284</td>\n",
       "      <td>123</td>\n",
       "      <td>75</td>\n",
       "      <td>593</td>\n",
       "      <td>528578</td>\n",
       "      <td>218488</td>\n",
       "      <td>...</td>\n",
       "      <td>2147483647</td>\n",
       "      <td>512832338</td>\n",
       "      <td>421473060</td>\n",
       "      <td>258344033</td>\n",
       "      <td>208285202</td>\n",
       "      <td>273568626</td>\n",
       "      <td>170413190</td>\n",
       "      <td>147560971</td>\n",
       "      <td>368510256</td>\n",
       "      <td>2303</td>\n",
       "    </tr>\n",
       "  </tbody>\n",
       "</table>\n",
       "<p>1 rows × 49 columns</p>\n",
       "</div>"
      ],
      "text/plain": [
       "        date  number_1  number_10  number_11  number_12  number_13  number_14  \\\n",
       "0 2017-12-08    192049       2190        901        284        123         75   \n",
       "\n",
       "   number_15  number_16  number_2   ...     shares_16   shares_2   shares_3  \\\n",
       "0        593     528578    218488   ...    2147483647  512832338  421473060   \n",
       "\n",
       "    shares_4   shares_5   shares_6   shares_7   shares_8   shares_9  ticker  \n",
       "0  258344033  208285202  273568626  170413190  147560971  368510256    2303  \n",
       "\n",
       "[1 rows x 49 columns]"
      ]
     },
     "execution_count": 48,
     "metadata": {},
     "output_type": "execute_result"
    }
   ],
   "source": [
    "# https://stackoverflow.com/questions/16249736/how-to-import-data-from-mongodb-to-pandas\n",
    "\n",
    "import dateutil\n",
    "import pandas as pd\n",
    "from pymongo import MongoClient\n",
    "\n",
    "def _connect_mongo(host, port, username, password, db):\n",
    "    \"\"\" A util for making a connection to mongo \"\"\"\n",
    "\n",
    "    if username and password:\n",
    "        mongo_uri = 'mongodb://%s:%s@%s:%s/%s' % (username, password, host, port, db)\n",
    "        conn = MongoClient(mongo_uri)\n",
    "    else:\n",
    "        conn = MongoClient(host, port)\n",
    "\n",
    "    return conn[db]\n",
    "\n",
    "\n",
    "def read_mongo(db, collection, query, host, port, username, password, no_id):\n",
    "    \"\"\" Read from Mongo and Store into DataFrame \"\"\"\n",
    "\n",
    "    # Connect to MongoDB\n",
    "    db = _connect_mongo(host=host, port=port, username=username, password=password, db=db)\n",
    "\n",
    "    # Make a query to the specific DB and Collection\n",
    "    cursor = db[collection].find(query)\n",
    "\n",
    "    # Expand the cursor and construct the DataFrame\n",
    "    df =  pd.DataFrame(list(cursor))\n",
    "\n",
    "    # Delete the _id\n",
    "    if no_id:\n",
    "        del df['_id']\n",
    "    \n",
    "    return df\n",
    "\n",
    "host = 'localhost'\n",
    "port = 27017\n",
    "username = None\n",
    "password = None\n",
    "no_id = True\n",
    "\n",
    "ticker = 2303\n",
    "dateStr = '2017-12-15T00:00:00.000Z'\n",
    "myDatetime = dateutil.parser.parse(dateStr)\n",
    "query = {'ticker':ticker,'date': myDatetime}\n",
    "\n",
    "df = read_mongo('twstock', 'chips', query, host, port, username, password, no_id)\n",
    "df"
   ]
  },
  {
   "cell_type": "code",
   "execution_count": 47,
   "metadata": {},
   "outputs": [
    {
     "data": {
      "text/plain": [
       "Timestamp('2017-12-08 00:00:00')"
      ]
     },
     "execution_count": 47,
     "metadata": {},
     "output_type": "execute_result"
    }
   ],
   "source": []
  },
  {
   "cell_type": "code",
   "execution_count": null,
   "metadata": {},
   "outputs": [],
   "source": []
  }
 ],
 "metadata": {
  "kernelspec": {
   "display_name": "Python 3",
   "language": "python",
   "name": "python3"
  },
  "language_info": {
   "codemirror_mode": {
    "name": "ipython",
    "version": 3
   },
   "file_extension": ".py",
   "mimetype": "text/x-python",
   "name": "python",
   "nbconvert_exporter": "python",
   "pygments_lexer": "ipython3",
   "version": "3.6.3"
  }
 },
 "nbformat": 4,
 "nbformat_minor": 2
}
