{
 "cells": [
  {
   "cell_type": "code",
   "execution_count": 1,
   "metadata": {},
   "outputs": [
    {
     "name": "stdout",
     "output_type": "stream",
     "text": [
      "done\n"
     ]
    }
   ],
   "source": [
    "import pandas as pd\n",
    "#from pandas import ExcelWriter\n",
    "import matplotlib.pyplot as plt                  \n",
    "%matplotlib inline\n",
    "\n",
    "def read_TEJ(year):\n",
    "\n",
    "    xls1 = pd.ExcelFile('weeks_return/{}R.xlsx'.format(year)) #讀取資料\n",
    "    df = xls1.parse('Sheet1')\n",
    "    \n",
    "    return df\n",
    "\n",
    "df = read_TEJ(2000)\n",
    "\n",
    "for year in range(2001, 2003):\n",
    "    \n",
    "    df2 = read_TEJ(year)\n",
    "    df = df.append(df2)  \n",
    "    df = df.drop_duplicates()\n",
    "    \n",
    "print('done')"
   ]
  },
  {
   "cell_type": "code",
   "execution_count": null,
   "metadata": {},
   "outputs": [],
   "source": [
    "tickers = '1101'\n",
    "\n",
    "filter = df['ticker'] == tickers\n",
    "\n",
    "stock_info = df[filter]\n",
    "stock_info['return'] = 1 + (stock_info['return']/100)\n",
    "stock_info.index = stock_info['date']\n",
    "\n",
    "stock_info['return'].cumprod().plot(color='blue')"
   ]
  },
  {
   "cell_type": "code",
   "execution_count": null,
   "metadata": {
    "collapsed": true
   },
   "outputs": [],
   "source": []
  }
 ],
 "metadata": {
  "kernelspec": {
   "display_name": "Python 3",
   "language": "python",
   "name": "python3"
  },
  "language_info": {
   "codemirror_mode": {
    "name": "ipython",
    "version": 3
   },
   "file_extension": ".py",
   "mimetype": "text/x-python",
   "name": "python",
   "nbconvert_exporter": "python",
   "pygments_lexer": "ipython3",
   "version": "3.6.3"
  }
 },
 "nbformat": 4,
 "nbformat_minor": 2
}
