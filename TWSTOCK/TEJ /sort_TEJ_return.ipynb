{
 "cells": [
  {
   "cell_type": "code",
   "execution_count": null,
   "metadata": {},
   "outputs": [],
   "source": [
    "import pandas as pd\n",
    "from pandas import ExcelWriter\n",
    "\n",
    "def read_TEJ(year):\n",
    "    \n",
    "    xls1 = pd.ExcelFile('week_return/{}.xlsx'.format(year)) #讀取資料\n",
    "    xls2 = pd.ExcelFile('week_return/{}_1.xlsx'.format(year))\n",
    "\n",
    "    df= xls1.parse('工作表1') #合併資料\n",
    "    df2 = xls2.parse('工作表1')\n",
    "    df = df.append(df2)\n",
    "    \n",
    "    newdf = df['證券代碼'].str.split(' ', expand=True) #split stock name and ticker\n",
    "   \n",
    "    df = pd.concat([newdf, df], axis=1) #合併ticker與其他資料\n",
    "    df = df.drop_duplicates() #清除重複欄位   \n",
    "    del df['證券代碼']\n",
    "    #def df[2]\n",
    "    \n",
    "    df = df.rename(columns = {0:'ticker',1:'name','年月日':'date','收盤價(元)_週':'close','報酬率％_週':'return'})\n",
    "    df = df.sort_values(by=['date','ticker'])\n",
    "    \n",
    "    return df\n",
    "\n",
    "for year in range(2013, 2018):\n",
    "\n",
    "    df = read_TEJ(year)\n",
    "    \n",
    "    #df.index = range(len(df.index)) #重整index for csv\n",
    "    \n",
    "    writer = ExcelWriter('weeks_return/{}R.xlsx'.format(year))\n",
    "    df.to_excel(writer, 'Sheet1', index=False)\n",
    "    writer.save()\n",
    "\n",
    "    #df.to_csv('week_return_revise/{}R.csv'.format(year)) #儲存\n",
    "    print('{} done'.format(year))"
   ]
  },
  {
   "cell_type": "code",
   "execution_count": null,
   "metadata": {
    "collapsed": true
   },
   "outputs": [],
   "source": []
  }
 ],
 "metadata": {
  "kernelspec": {
   "display_name": "Python 3",
   "language": "python",
   "name": "python3"
  },
  "language_info": {
   "codemirror_mode": {
    "name": "ipython",
    "version": 3
   },
   "file_extension": ".py",
   "mimetype": "text/x-python",
   "name": "python",
   "nbconvert_exporter": "python",
   "pygments_lexer": "ipython3",
   "version": "3.6.3"
  }
 },
 "nbformat": 4,
 "nbformat_minor": 2
}
