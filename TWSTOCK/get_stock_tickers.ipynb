{
 "cells": [
  {
   "cell_type": "code",
   "execution_count": 29,
   "metadata": {},
   "outputs": [
    {
     "name": "stdout",
     "output_type": "stream",
     "text": [
      "done!\n"
     ]
    }
   ],
   "source": [
    "# http://bloggerkaiweng.blogspot.tw/2016/09/python_13.html\n",
    "\n",
    "import pandas as pd\n",
    "\n",
    "def getstocklist(stksite):\n",
    "    df = pd.read_html(stksite, encoding='big5hkscs', header=0) # header=0 - 取消index\n",
    "    newdf = df[0][df[0]['產業別'] > '0'] # 取得股票資料(排除權證等) - 其他證券無產業別\n",
    "    \n",
    "    del newdf['國際證券辨識號碼(ISIN Code)'], newdf['CFICode'], newdf['備註'] # 刪除不要的欄位\n",
    "    newdf_no = newdf['有價證券代號及名稱'].str.split(' ', expand=True) # 迭代處理所有資料\n",
    "    newdf_no = newdf_no.reset_index(drop=True)\n",
    "    newdf = newdf.reset_index(drop=True)\n",
    "    \n",
    "    for i in newdf_no.index: #字串處理\n",
    "        if '　' in newdf_no.iat[i,0]:\n",
    "            newdf_no.iat[i,1] = newdf_no.iat[i,0].split('　')[1]\n",
    "            newdf_no.iat[i,0] = newdf_no.iat[i,0].split('　')[0]\n",
    "    \n",
    "    newdf=newdf_no.join(newdf)\n",
    "    newdf=newdf.rename(columns = {0:'ticker',1:'股票名稱'})\n",
    "    del newdf['有價證券代號及名稱']\n",
    "    return newdf\n",
    "\n",
    "newdf1 = getstocklist('http://isin.twse.com.tw/isin/C_public.jsp?strMode=2') #爬上市\n",
    "newdf2 = getstocklist('http://isin.twse.com.tw/isin/C_public.jsp?strMode=4') #爬上櫃\n",
    "\n",
    "newdfok = pd.concat([newdf1,newdf2],keys='ticker') #合併上市櫃資料\n",
    "newdfok = newdfok.sort_values(by='ticker') #依股票代碼排序\n",
    "\n",
    "final_df = (newdfok['ticker']).reset_index()\n",
    "del final_df['level_0'], final_df['level_1']\n",
    "\n",
    "#final_df.to_csv('stocklist-E.csv')\n",
    "print('done!')"
   ]
  },
  {
   "cell_type": "code",
   "execution_count": null,
   "metadata": {},
   "outputs": [],
   "source": []
  }
 ],
 "metadata": {
  "kernelspec": {
   "display_name": "Python 3",
   "language": "python",
   "name": "python3"
  },
  "language_info": {
   "codemirror_mode": {
    "name": "ipython",
    "version": 3
   },
   "file_extension": ".py",
   "mimetype": "text/x-python",
   "name": "python",
   "nbconvert_exporter": "python",
   "pygments_lexer": "ipython3",
   "version": "3.6.3"
  }
 },
 "nbformat": 4,
 "nbformat_minor": 2
}
