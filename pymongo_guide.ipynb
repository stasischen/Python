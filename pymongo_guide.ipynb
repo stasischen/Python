{
 "cells": [
  {
   "cell_type": "code",
   "execution_count": 33,
   "metadata": {},
   "outputs": [
    {
     "data": {
      "text/plain": [
       "Collection(Database(MongoClient(host=['localhost:27017'], document_class=dict, tz_aware=False, connect=True), 'mongodb'), 'books.stats')"
      ]
     },
     "execution_count": 33,
     "metadata": {},
     "output_type": "execute_result"
    }
   ],
   "source": [
    "# https://ithelp.ithome.com.tw/articles/10191408?sc=iThelpR\n",
    "# import\n",
    "from pymongo import MongoClient\n",
    "from bson.objectid import ObjectId #這東西透過ObjectID去尋找的時候會用到\n",
    "\n",
    "# connection\n",
    "url = 'localhost:27017'\n",
    "conn = MongoClient(url) # 如果你只想連本機端的server你可以忽略，遠端的url填入: mongodb://<user_name>:<user_password>@ds<xxxxxx>.mlab.com:<xxxxx>/<database_name>，請務必既的把腳括號的內容代換成自己的資料。\n",
    "#db = conn.<database_name>\n",
    "#collection = db.<collection_name>\n",
    "db = conn.mongodb\n",
    "collection = db.books\n",
    "\n",
    "# test if connection success\n",
    "collection.stats  # 如果沒有error，你就連線成功了。"
   ]
  },
  {
   "cell_type": "code",
   "execution_count": null,
   "metadata": {
    "collapsed": true
   },
   "outputs": [],
   "source": [
    "#尋找一筆資料\n",
    "cursor = collection.find_one({'<column_name>': '<what_you_want>'})\n",
    "cursor = collection.find_one({'_id': ObjectId('<id_string>')}) #如果你在意速度的話用Id尋找會比用內容尋找快很多喔!\n",
    "\n",
    "#回傳全部資料\n",
    "cursor = collection.find({}) #此處須注意，其回傳的並不是資料本身，你必須在迴圈中逐一讀出來的過程中，它才真的會去資料庫把資料撈出來給你。\n",
    "data = [d for d in cursor] #這樣才能真正從資料庫把資料庫撈到python的暫存記憶體中。\n",
    "\n",
    "#尋找全部資料\n",
    "cursor = collection.find({'<column_name>': '<what_you_want>'})"
   ]
  },
  {
   "cell_type": "code",
   "execution_count": null,
   "metadata": {
    "collapsed": true
   },
   "outputs": [],
   "source": [
    "\n",
    "# 刪除一筆資料\n",
    "collection.delete_one({'<column_name>': '<what_you_want>'})\n",
    "\n",
    "# 刪除全部資料\n",
    "collection.delete_many({})\n",
    "\n",
    "# 刪除多筆資料\n",
    "collection.delete_many({'<column_name>': '<what_you_want>'})"
   ]
  },
  {
   "cell_type": "code",
   "execution_count": null,
   "metadata": {
    "collapsed": true
   },
   "outputs": [],
   "source": [
    "# 插入一筆資料: 請放入一個dict\n",
    "collection.insert_one(<to_be_insert_dict>)\n",
    "\n",
    "# 插入多筆資料: 請放入一個dist\n",
    "collection.insert_many(<to_be_insert_dist>)"
   ]
  }
 ],
 "metadata": {},
 "nbformat": 4,
 "nbformat_minor": 2
}
