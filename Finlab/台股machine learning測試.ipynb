{
 "cells": [
  {
   "cell_type": "code",
   "execution_count": 12,
   "metadata": {},
   "outputs": [
    {
     "name": "stdout",
     "output_type": "stream",
     "text": [
      "test data\n",
      "gain before filtered 0.9983733916970811\n",
      "gain after filtered 1.0535832317481133\n",
      "num stocks 486 / 1768\n",
      "backtest data\n",
      "gain before filtered 1.003997768117934\n",
      "gain after filtered 1.031806842632945\n",
      "num stocks 3311 / 12446\n"
     ]
    },
    {
     "data": {
      "text/plain": [
       "<matplotlib.axes._subplots.AxesSubplot at 0x1a25607b70>"
      ]
     },
     "execution_count": 12,
     "metadata": {},
     "output_type": "execute_result"
    },
    {
     "data": {
      "image/png": "[encoded data removed]",
      "text/plain": [
       "<matplotlib.figure.Figure at 0x1a285f0668>"
      ]
     },
     "metadata": {},
     "output_type": "display_data"
    }
   ],
   "source": [
    "import pandas as pd\n",
    "data = pd.read_csv('data.csv', index_col='Unnamed: 0')\n",
    "\n",
    "from sklearn.model_selection import train_test_split\n",
    "# clear data 將爛資料去掉\n",
    "data.dropna(how='any', inplace=True)\n",
    "# 選擇2015年以後的資料作為回測用\n",
    "dbacktest = data[data['buy_date'] > '2015']\n",
    "# 將其於的資料再分成兩類：dtrain 跟 dtest\n",
    "dataTrainTest = data[data['sell_date'] < '2015']\n",
    "dtrain, dtest = train_test_split(dataTrainTest, test_size=0.10, random_state=42)\n",
    "# 設定我們的feature要用哪些\n",
    "features = data.columns[5:-1]\n",
    "\n",
    "from sklearn.ensemble import RandomForestClassifier\n",
    "# 創建機器學習的model\n",
    "rf = RandomForestClassifier(n_estimators=10, criterion='gini', \n",
    "                            max_depth=None, min_samples_split=2, \n",
    "                            min_samples_leaf=1, min_weight_fraction_leaf=0.0, \n",
    "                            max_features='auto', max_leaf_nodes=None, \n",
    "                            bootstrap=True, oob_score=False, n_jobs=1, \n",
    "                            random_state=None, verbose=0, warm_start=False, \n",
    "                            class_weight=None)\n",
    "# 分類能獲利的股票\n",
    "rf.fit(dtrain[features], dtrain['獲利'] > 1)\n",
    "\n",
    "result = rf.predict(dtest[features])\n",
    "print('test data')\n",
    "print('gain before filtered', dtest['獲利'].mean())\n",
    "print('gain after filtered', dtest['獲利'][result].mean())\n",
    "print('num stocks', sum(result), '/', len(dtest))\n",
    "result = rf.predict(dbacktest[features])\n",
    "print('backtest data')\n",
    "print('gain before filtered', dbacktest['獲利'].mean())\n",
    "print('gain after filtered', dbacktest['獲利'][result].mean())\n",
    "print('num stocks', sum(result), '/', len(dbacktest))\n",
    "\n",
    "%matplotlib inline\n",
    "dbacktest['預測'] = pd.Series(result, index=dbacktest.index)\n",
    "dates = list(set(dbacktest['buy_date']))\n",
    "dates.sort()\n",
    "\n",
    "history = []\n",
    "for d in dates:\n",
    "    history.append(dbacktest[(dbacktest['buy_date'] == d) & (dbacktest['預測'])]['獲利'].mean())\n",
    "\n",
    "pd.Series(history, index=dates).cumprod().plot()"
   ]
  },
  {
   "cell_type": "code",
   "execution_count": null,
   "metadata": {
    "collapsed": true
   },
   "outputs": [],
   "source": []
  }
 ],
 "metadata": {
  "kernelspec": {
   "display_name": "Python 3",
   "language": "python",
   "name": "python3"
  },
  "language_info": {
   "codemirror_mode": {
    "name": "ipython",
    "version": 3
   },
   "file_extension": ".py",
   "mimetype": "text/x-python",
   "name": "python",
   "nbconvert_exporter": "python",
   "pygments_lexer": "ipython3",
   "version": "3.6.3"
  }
 },
 "nbformat": 4,
 "nbformat_minor": 2
}
